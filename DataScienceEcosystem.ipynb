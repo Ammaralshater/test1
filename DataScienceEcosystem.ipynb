{
 "cells": [
  {
   "cell_type": "markdown",
   "id": "cdfec4e2-61f7-4485-ba64-2f87d5a24520",
   "metadata": {},
   "source": [
    "Data Science Tools and Ecosystem"
   ]
  },
  {
   "cell_type": "markdown",
   "id": "f8913b74-48e5-40db-839e-4e7096da940e",
   "metadata": {
    "tags": []
   },
   "source": [
    "In this notebook, Data Science Tools and Ecosystem are summarized."
   ]
  },
  {
   "cell_type": "markdown",
   "id": "b9c392d7-8a71-4493-9e53-12ad0da7f233",
   "metadata": {
    "tags": []
   },
   "source": [
    "**Objectives:**"
   ]
  },
  {
   "cell_type": "markdown",
   "id": "850f825f-e4a7-4634-8fd7-4466d18edae0",
   "metadata": {
    "tags": []
   },
   "source": [
    "- Python 1\n",
    "- R 2\n",
    "- SQL 3\n",
    "- Julia 4"
   ]
  },
  {
   "cell_type": "markdown",
   "id": "edd17768-073e-499d-b951-0342e8c42c78",
   "metadata": {},
   "source": [
    "Some of the popular languages that Data Scientists use are: R , paython , SQL etc..\n"
   ]
  },
  {
   "cell_type": "markdown",
   "id": "25af5e58-6fe2-40f9-941c-c047b81addd1",
   "metadata": {},
   "source": [
    "Some of the commonly used libraries used by Data Scientists include: \n",
    "    ordered list: Plotly , pandas , Numpy\n",
    "    "
   ]
  },
  {
   "cell_type": "markdown",
   "id": "8516b02f-dd85-443d-b886-d16935dd2d0b",
   "metadata": {},
   "source": [
    "#Table"
   ]
  },
  {
   "cell_type": "markdown",
   "id": "5d733f60-d5bf-4fac-9f0a-12df1a86e54c",
   "metadata": {},
   "source": [
    "|Name: Data Science Tools|\n",
    "|-----------------|\n",
    "|Apache hadoop|\n",
    "|R|\n",
    "|Apache Spark|"
   ]
  },
  {
   "cell_type": "markdown",
   "id": "65cd1826-55ce-4c50-a323-e063b81540d2",
   "metadata": {},
   "source": [
    "###Below are a few examples of evaluating arithmetic expressions in Python"
   ]
  },
  {
   "cell_type": "code",
   "execution_count": 2,
   "id": "cd90a7c0-5d6a-4a11-ac19-3aa4d72ca25f",
   "metadata": {
    "tags": []
   },
   "outputs": [
    {
     "data": {
      "text/plain": [
       "17"
      ]
     },
     "execution_count": 2,
     "metadata": {},
     "output_type": "execute_result"
    }
   ],
   "source": [
    "(3*4)+5 #This a simple arithmetic expression to mutiply then add integers"
   ]
  },
  {
   "cell_type": "code",
   "execution_count": 3,
   "id": "bb531666-cbb2-4055-93d9-13ab4e1b24d4",
   "metadata": {
    "tags": []
   },
   "outputs": [
    {
     "data": {
      "text/plain": [
       "3.3333333333333335"
      ]
     },
     "execution_count": 3,
     "metadata": {},
     "output_type": "execute_result"
    }
   ],
   "source": [
    "min = 200\n",
    "hours = min / 60\n",
    "hours\n",
    "# This will convert 200 minutes to hours by diving by 60"
   ]
  },
  {
   "cell_type": "markdown",
   "id": "0827aacc-0618-4d36-8485-a5854e6bce96",
   "metadata": {
    "tags": []
   },
   "source": [
    "## Author \n",
    "Ammar Alshater"
   ]
  }
 ],
 "metadata": {
  "kernelspec": {
   "display_name": "Python",
   "language": "python",
   "name": "conda-env-python-py"
  },
  "language_info": {
   "codemirror_mode": {
    "name": "ipython",
    "version": 3
   },
   "file_extension": ".py",
   "mimetype": "text/x-python",
   "name": "python",
   "nbconvert_exporter": "python",
   "pygments_lexer": "ipython3",
   "version": "3.7.12"
  }
 },
 "nbformat": 4,
 "nbformat_minor": 5
}
